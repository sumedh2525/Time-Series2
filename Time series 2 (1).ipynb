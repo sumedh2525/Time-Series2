{
 "cells": [
  {
   "cell_type": "markdown",
   "id": "955f5bd5-acd0-4b41-adb0-948e9df6cb54",
   "metadata": {},
   "source": [
    "Q1. What is meant by time-dependent seasonal components?\n",
    "\n",
    " Time-Dependent Seasonal Components:\n",
    "Time-dependent seasonal components refer to patterns in time series data that exhibit seasonality, where the seasonal effect varies over time. Unlike stationary seasonal components with constant patterns, time-dependent components allow for variations and changes in the seasonality across different periods."
   ]
  },
  {
   "cell_type": "code",
   "execution_count": null,
   "id": "2e70ca2d-289a-4b67-a92e-f3614141d50b",
   "metadata": {},
   "outputs": [],
   "source": []
  },
  {
   "cell_type": "markdown",
   "id": "fff7a69b-50b0-4564-8057-79e48a608080",
   "metadata": {},
   "source": [
    "Q2. How can time-dependent seasonal components be identified in time series data?\n",
    "\n",
    "Identifying Time-Dependent Seasonal Components:\n",
    "\n",
    "Visual Inspection: Plotting the time series data and looking for varying patterns over time.\n",
    "Seasonal Decomposition: Using methods like STL (Seasonal-Trend decomposition using LOESS) or X-12-ARIMA to decompose the time series into components, including time-dependent seasonality.\n",
    "Statistical Tests: Applying statistical tests to assess the presence of time-dependent seasonality."
   ]
  },
  {
   "cell_type": "code",
   "execution_count": null,
   "id": "c6043a75-d889-4b87-904c-69d7ffeb1e67",
   "metadata": {},
   "outputs": [],
   "source": []
  },
  {
   "cell_type": "markdown",
   "id": "2c622a30-049d-4f7a-a67a-ebb0939abcae",
   "metadata": {},
   "source": [
    "Q3. What are the factors that can influence time-dependent seasonal components?\n",
    "\n",
    "\n",
    "\n",
    "Factors Influencing Time-Dependent Seasonal Components:\n",
    "\n",
    "External Events: Changes in external factors like holidays, economic conditions, or climate.\n",
    "Market Trends: Evolving market trends affecting seasonality.\n",
    "Consumer Behavior: Shifts in consumer behavior over time."
   ]
  },
  {
   "cell_type": "code",
   "execution_count": null,
   "id": "fdf4d9f9-9748-4182-95c8-e5bd638ceea9",
   "metadata": {},
   "outputs": [],
   "source": []
  },
  {
   "cell_type": "markdown",
   "id": "2dccdf2a-bc2d-49c2-b73c-a1c2399d5692",
   "metadata": {},
   "source": [
    "Q4. How are autoregression models used in time series analysis and forecasting?\n",
    "\n",
    "\n",
    "Autoregression Models in Time Series Analysis:\n",
    "Autoregression models (AR models) use past values of a time series to predict future values. The model assumes that the current value is linearly dependent on its own previous values."
   ]
  },
  {
   "cell_type": "code",
   "execution_count": null,
   "id": "f18892f5-1c10-490c-a6fd-ab71f1ffd592",
   "metadata": {},
   "outputs": [],
   "source": []
  },
  {
   "cell_type": "markdown",
   "id": "f298e602-b87e-4c9a-9828-abf2bea93892",
   "metadata": {},
   "source": [
    "Q5. How do you use autoregression models to make predictions for future time points?\n",
    "\n",
    "\n",
    "Using Autoregression Models for Predictions:\n",
    "\n",
    "Formula: \n",
    "=\n",
    "+\n",
    "�\n",
    "1\n",
    "⋅\n",
    "−\n",
    "1\n",
    "+\n",
    "\n",
    "2\n",
    "⋅\n",
    "\n",
    "\n",
    "−\n",
    "2\n",
    "+\n",
    "…\n",
    "+\n",
    "\n",
    "\n",
    "⋅\n",
    "\n",
    "\n",
    "−\n",
    "\n",
    "+\n",
    "\n",
    "\n",
    "y \n",
    "t\n",
    "​\n",
    " =c+ϕ \n",
    "1\n",
    "​\n",
    " ⋅y \n",
    "t−1\n",
    "​\n",
    " +ϕ \n",
    "2\n",
    "​\n",
    " ⋅y \n",
    "t−2\n",
    "​\n",
    " +…+ϕ \n",
    "p\n",
    "​\n",
    " ⋅y \n",
    "t−p\n",
    "​\n",
    " +ϵ \n",
    "t\n",
    "​\n",
    " \n",
    "Parameters: \n",
    "\n",
    "c is a constant, \n",
    "\n",
    "1\n",
    ",\n",
    "\n",
    "2\n",
    ",\n",
    "…\n",
    ",\n",
    "\n",
    "\n",
    "ϕ \n",
    "1\n",
    "​\n",
    " ,ϕ \n",
    "2\n",
    "​\n",
    " ,…,ϕ \n",
    "p\n",
    "​\n",
    "  are autoregressive coefficients, \n",
    "\n",
    "\n",
    "ϵ \n",
    "t\n",
    "​\n",
    "  is the error term.\n",
    "Predictions: Given past values, predictions for future time points involve substituting the previous observations into the model."
   ]
  },
  {
   "cell_type": "code",
   "execution_count": null,
   "id": "df6a3066-05a4-4cae-8a6f-c6dfd28b8d15",
   "metadata": {},
   "outputs": [],
   "source": []
  },
  {
   "cell_type": "markdown",
   "id": "e89e2e3e-5b1a-4c0d-9397-d38fe4c1d4ca",
   "metadata": {},
   "source": [
    "Q6. What is a moving average (MA) model and how does it differ from other time series models?\n",
    "\n",
    " Moving Average (MA) Model:\n",
    "\n",
    "Definition: A moving average model (MA) uses past forecast errors to predict future values. It models the relationship between the current observation and a residual term based on past forecast errors.\n",
    "\n",
    "Differences: In contrast to autoregressive models, MA models use past errors rather than past values."
   ]
  },
  {
   "cell_type": "code",
   "execution_count": null,
   "id": "ba358e62-bc77-42b2-8481-94768328aa1d",
   "metadata": {},
   "outputs": [],
   "source": []
  },
  {
   "cell_type": "markdown",
   "id": "4e0878eb-2259-4ce5-b196-c99b1c9e38af",
   "metadata": {},
   "source": [
    "Q7. What is a mixed ARMA model and how does it differ from an AR or MA model?\n",
    "\n",
    "\n",
    "Mixed ARMA Model:\n",
    "\n",
    "Definition: A mixed autoregressive moving average (ARMA) model combines autoregressive (AR) and moving average (MA) components. It is denoted as ARMA(p, q), where p is the order of the autoregressive part, and q is the order of the moving average part.\n",
    "Differences from AR or MA Models: ARMA models provide a more flexible framework, allowing the incorporation of both autoregressive and moving average elements. AR models capture dependence on past observations, while MA models capture dependence on past forecast errors. A mixed ARMA model combines these aspects for more accurate time series modeling."
   ]
  },
  {
   "cell_type": "code",
   "execution_count": null,
   "id": "f192bcac-5a7e-473e-a773-237f3218eeef",
   "metadata": {},
   "outputs": [],
   "source": []
  },
  {
   "cell_type": "code",
   "execution_count": null,
   "id": "8c58f051-b233-4b12-a78e-6ad8cfcf51dd",
   "metadata": {},
   "outputs": [],
   "source": []
  }
 ],
 "metadata": {
  "kernelspec": {
   "display_name": "Python 3 (ipykernel)",
   "language": "python",
   "name": "python3"
  },
  "language_info": {
   "codemirror_mode": {
    "name": "ipython",
    "version": 3
   },
   "file_extension": ".py",
   "mimetype": "text/x-python",
   "name": "python",
   "nbconvert_exporter": "python",
   "pygments_lexer": "ipython3",
   "version": "3.10.8"
  }
 },
 "nbformat": 4,
 "nbformat_minor": 5
}
